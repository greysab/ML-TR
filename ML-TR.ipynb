{
 "cells": [
  {
   "cell_type": "code",
   "execution_count": 17,
   "metadata": {},
   "outputs": [],
   "source": [
    "import pandas as pd\n",
    "import random\n",
    "import numpy as np\n",
    "import matplotlib.pyplot as plt\n",
    "from collections import Counter"
   ]
  },
  {
   "cell_type": "code",
   "execution_count": 3,
   "metadata": {},
   "outputs": [],
   "source": [
    "path=\"path2TRACKMLdata\"\n",
    "hits=pd.read_csv(path+\"event000029500-hits.csv\",usecols=[\"hit_id\",\"x\",\"y\",\"z\",\"layer_id\",\"volume_id\"])\n",
    "truth=pd.read_csv(path+\"event000029500-truth.csv\")\n",
    "particles=pd.read_csv(path+\"event000029500-particles.csv\")\n",
    "df_ht=pd.merge(hits,truth,on=\"hit_id\")\n",
    "df_data=pd.merge(df_ht,particles,on=\"particle_id\")"
   ]
  },
  {
   "cell_type": "code",
   "execution_count": 4,
   "metadata": {},
   "outputs": [],
   "source": [
    "from annoy import AnnoyIndex\n",
    "def buildAnnoyIndex(data,metric=\"angular\",ntrees=10):\n",
    "    f = data.shape[1]\n",
    "    t = AnnoyIndex(f,metric)  \n",
    "    for i,d in enumerate(data):\n",
    "        t.add_item(i, d)\n",
    "    t.build(ntrees) # more trees are slower to build but slightly more accurate\n",
    "    return t"
   ]
  },
  {
   "cell_type": "code",
   "execution_count": 6,
   "metadata": {},
   "outputs": [],
   "source": [
    "index=buildAnnoyIndex(df_data[[\"x\",\"y\",\"z\"]].values,metric=\"angular\",ntrees=4)"
   ]
  },
  {
   "cell_type": "code",
   "execution_count": 45,
   "metadata": {},
   "outputs": [
    {
     "name": "stdout",
     "output_type": "stream",
     "text": [
      "Size of leading particle per bucket : \n",
      "4\n",
      "13\n",
      "7\n",
      "3\n",
      "8\n",
      "5\n",
      "2\n",
      "3\n",
      "2\n",
      "2\n"
     ]
    },
    {
     "data": {
      "image/png": "[encoded data removed]",
      "text/plain": [
       "<Figure size 432x288 with 1 Axes>"
      ]
     },
     "metadata": {
      "needs_background": "light"
     },
     "output_type": "display_data"
    }
   ],
   "source": [
    "# Generate N buckets and plot them in x,y view. List the size of the leading particle in each bucket.\n",
    "N=10\n",
    "print(\"Size of leading particle per bucket : \")\n",
    "for h in range(N):\n",
    "    n=random.choice(range(len(df_data))) # choice of query position influcences bucket quality (sometime a lot)\n",
    "    bucket_idx=np.array(index.get_nns_by_item(n,20))\n",
    "    bucket=df_data.iloc[bucket_idx]\n",
    "    print (Counter(bucket.particle_id).most_common(1)[0][1])\n",
    "    plt.plot(bucket.x,bucket.y,\"o\")\n",
    "plt.show()"
   ]
  },
  {
   "cell_type": "code",
   "execution_count": 24,
   "metadata": {},
   "outputs": [],
   "source": [
    "#checking distribution of leading particles in N random buckets\n",
    "#one can play with position of query, pT cut... for different evaluations\n",
    "def dist_leading_size(df_data,index,BS=20,N=1000):   \n",
    "    dist_leading=[]\n",
    "    for h in range(N):\n",
    "        n=random.choice(range(len(df_data))) # choice of query position influcences bucket quality (sometime a lot)\n",
    "        bucket_idx=np.array(index.get_nns_by_item(n,BS))\n",
    "        bucket=df_data.iloc[bucket_idx]\n",
    "        dist_leading.append(Counter(bucket.particle_id).most_common(1)[0][1])\n",
    "    return dist_leading"
   ]
  },
  {
   "cell_type": "code",
   "execution_count": 25,
   "metadata": {},
   "outputs": [],
   "source": [
    "dist_leading=dist_leading_size(df_data,index)"
   ]
  },
  {
   "cell_type": "code",
   "execution_count": 39,
   "metadata": {},
   "outputs": [
    {
     "data": {
      "image/png": "[encoded data removed]",
      "text/plain": [
       "<Figure size 432x288 with 1 Axes>"
      ]
     },
     "metadata": {
      "needs_background": "light"
     },
     "output_type": "display_data"
    }
   ],
   "source": [
    "N=1000\n",
    "c_bins=np.arange(0,20,1) #to really see everything, change according to BS (bucket size)\n",
    "plt.hist(dist_leading,bins=c_bins,align=\"left\")\n",
    "plt.xlabel(\"leading particle size (bucket of 20 hits)\")\n",
    "plt.xticks(c_bins)\n",
    "plt.show()"
   ]
  },
  {
   "cell_type": "code",
   "execution_count": 40,
   "metadata": {},
   "outputs": [
    {
     "name": "stdout",
     "output_type": "stream",
     "text": [
      "23.6 ms ± 695 µs per loop (mean ± std. dev. of 7 runs, 10 loops each)\n"
     ]
    }
   ],
   "source": [
    "%timeit  [np.array(index.get_nns_by_item(n,20)) for n in random.sample(range(1, len(df_data)), N) ]"
   ]
  },
  {
   "cell_type": "code",
   "execution_count": null,
   "metadata": {},
   "outputs": [],
   "source": [
    "#pretty cool given its python"
   ]
  },
  {
   "cell_type": "code",
   "execution_count": null,
   "metadata": {},
   "outputs": [],
   "source": []
  }
 ],
 "metadata": {
  "kernelspec": {
   "display_name": "Python 3",
   "language": "python",
   "name": "python3"
  },
  "language_info": {
   "codemirror_mode": {
    "name": "ipython",
    "version": 3
   },
   "file_extension": ".py",
   "mimetype": "text/x-python",
   "name": "python",
   "nbconvert_exporter": "python",
   "pygments_lexer": "ipython3",
   "version": "3.7.3"
  }
 },
 "nbformat": 4,
 "nbformat_minor": 2
}
